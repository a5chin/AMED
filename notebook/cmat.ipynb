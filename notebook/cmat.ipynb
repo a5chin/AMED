{
 "cells": [
  {
   "cell_type": "code",
   "execution_count": 1,
   "metadata": {},
   "outputs": [],
   "source": [
    "import json\n",
    "from typing import Dict, List, Tuple"
   ]
  },
  {
   "cell_type": "code",
   "execution_count": 2,
   "metadata": {},
   "outputs": [],
   "source": [
    "import matplotlib.pyplot as plt\n",
    "import numpy as np\n",
    "import pandas as pd\n",
    "import seaborn as sns; sns.set()\n",
    "import torch\n",
    "from torchvision.ops.boxes import box_iou"
   ]
  },
  {
   "cell_type": "code",
   "execution_count": 3,
   "metadata": {},
   "outputs": [],
   "source": [
    "class Matrix:\n",
    "    def __init__(\n",
    "        self,\n",
    "        ann_file: str = r'//aka/work/hara.e/AMED/lib/dataset/annotations/test.json',\n",
    "        preds_file: str = r'//aka/work/hara.e/AMED/weights/YOLOX/four/metric0.35.json',\n",
    "        iou_th: float = 0.25,\n",
    "        conf_th: float = 0.3\n",
    "    ) -> None:\n",
    "        self.ann_file = ann_file\n",
    "        self.preds_file = preds_file\n",
    "        self.iou_th, self.conf_th = iou_th, conf_th\n",
    "\n",
    "        self.ann, self.preds = self.reformat()\n",
    "\n",
    "    def create_mat(self) -> np.ndarray:\n",
    "        mat = np.zeros((5, 5))\n",
    "\n",
    "        for i in range(len(self.preds)):\n",
    "            mat_temp = np.zeros((5, 5)).astype(np.int32)\n",
    "            row = self.preds.iloc[i, :]\n",
    "            label = row[\"label\"]\n",
    "\n",
    "            # FN\n",
    "            if 0 in row[\"preds\"]:\n",
    "                mat_temp[label, 0] += 1\n",
    "            elif (np.array(row[\"iou\"]) > self.iou_th).sum() >= 2:\n",
    "                pred = row[\"preds\"][np.array(row[\"reliability\"]).argmax()]\n",
    "                mat_temp[label, pred] += 1\n",
    "            # detected\n",
    "            else:\n",
    "                for pred, iou in zip(row[\"preds\"], row[\"iou\"]):\n",
    "                    if iou >= self.iou_th:\n",
    "                        mat_temp[label, pred] += 1\n",
    "                    # FP\n",
    "                    else:\n",
    "                        mat_temp[0, pred] += 1\n",
    "                        mat_temp[label, 0] += 1\n",
    "\n",
    "            for j, diagnosis in enumerate(mat_temp):\n",
    "                if j == 0:\n",
    "                    continue\n",
    "                while diagnosis.sum() >= 2:\n",
    "                    mat_temp[j, 0] -= 1\n",
    "\n",
    "            mat += mat_temp\n",
    "\n",
    "        return mat.astype(np.int32)\n",
    "\n",
    "    def reformat(self) -> Tuple[pd.DataFrame]:\n",
    "        ann_data, preds_data = self.read_data()\n",
    "        ann = pd.DataFrame(\n",
    "            self.reformat_ann(ann_data)\n",
    "        )\n",
    "        preds = pd.DataFrame(\n",
    "            self.reformat_preds(preds_data)\n",
    "        )\n",
    "\n",
    "        df_iou = {\"iou\": []}\n",
    "        for i in range(len(preds)):\n",
    "            iou = Matrix.calc_iou(\n",
    "                preds.iloc[i][\"bbox\"], ann.iloc[i][\"bbox\"]\n",
    "            )\n",
    "            df_iou[\"iou\"].append(iou)\n",
    "        df_iou = pd.DataFrame(df_iou)\n",
    "\n",
    "        preds[\"label\"] = ann[\"category_id\"]\n",
    "        preds[\"iou\"] = df_iou[\"iou\"]\n",
    "\n",
    "        return ann, preds\n",
    "\n",
    "    def reformat_ann(self, ann_data) -> Dict:\n",
    "        return {\n",
    "            \"id\": [data[\"id\"] for data in ann_data],\n",
    "            \"category_id\": [data[\"category_id\"] for data in ann_data],\n",
    "            \"bbox\": [data[\"bbox\"] for data in ann_data]\n",
    "        }\n",
    "\n",
    "    def reformat_preds(self, preds_data) -> Dict:\n",
    "        return {\n",
    "            \"file_name\": [name for name in preds_data[\"file_name\"]],\n",
    "            \"preds\": [preds for preds in preds_data[\"preds\"]],\n",
    "            \"reliability\": [preds for preds in preds_data[\"reliability\"]],\n",
    "            \"bbox\": [preds for preds in preds_data[\"bbox\"]]\n",
    "        }\n",
    "\n",
    "    def read_data(self) -> Tuple[Dict, Dict]:\n",
    "        with open(self.ann_file, \"r\") as f:\n",
    "            ann = json.load(f)[\"annotations\"]\n",
    "\n",
    "        with open(self.preds_file, \"r\") as f:\n",
    "            preds = json.load(f)\n",
    "\n",
    "        return ann, preds\n",
    "\n",
    "    @staticmethod\n",
    "    def calc_iou(pred: List, label: List) -> List:\n",
    "        x, y, w, h = label\n",
    "        if pred != [[]]:\n",
    "            pred, label = torch.Tensor(pred), torch.Tensor([[x, y, x + w, y + h]])\n",
    "            iou = box_iou(pred, label)\n",
    "        else:\n",
    "            iou = torch.Tensor([[0.]])\n",
    "\n",
    "        return iou.flatten().tolist()"
   ]
  },
  {
   "cell_type": "code",
   "execution_count": 4,
   "metadata": {},
   "outputs": [],
   "source": [
    "mat = Matrix(\n",
    "    ann_file=r'//aka/work/hara.e/AMED/lib/dataset/annotations/test.json',\n",
    "    preds_file=r\"//aka/work/hara.e/AMED/weights/centernet/stepwise2/metric0.3.json\",\n",
    "    iou_th=0.2,\n",
    ")"
   ]
  },
  {
   "cell_type": "code",
   "execution_count": 5,
   "metadata": {},
   "outputs": [
    {
     "data": {
      "text/plain": [
       "Text(30.453125, 0.5, 'Ground Truth')"
      ]
     },
     "execution_count": 5,
     "metadata": {},
     "output_type": "execute_result"
    },
    {
     "data": {
      "image/png": "[encoded data removed]",
      "text/plain": [
       "<Figure size 432x288 with 1 Axes>"
      ]
     },
     "metadata": {
      "needs_background": "light"
     },
     "output_type": "display_data"
    }
   ],
   "source": [
    "cmat = mat.create_mat()\n",
    "tics = [\"Cyst\", \"HCC\", \"Hem.\", \"Meta\"]\n",
    "\n",
    "mask = np.array([[1, 0, 0, 0, 0], [0, 0, 0, 0, 0], [0, 0, 0, 0, 0], [0, 0, 0, 0, 0], [0, 0, 0, 0, 0]])\n",
    "\n",
    "sns.heatmap(\n",
    "    cmat[:, :],\n",
    "    cmap=\"Blues\",\n",
    "    annot=True,\n",
    "    fmt='d',\n",
    "    cbar=False,\n",
    "    xticklabels=[\"None\"] + tics,\n",
    "    yticklabels=[\"None\"] + tics,\n",
    "    mask=mask\n",
    ")\n",
    "\n",
    "plt.xlabel(\"Predictions\")\n",
    "plt.ylabel(\"Ground Truth\")"
   ]
  },
  {
   "cell_type": "code",
   "execution_count": 6,
   "metadata": {},
   "outputs": [
    {
     "name": "stdout",
     "output_type": "stream",
     "text": [
      "[0.8124627310649599, 0.6808018504188065, 0.8079866888492246, 0.5923309788033064]\n",
      "macro: 0.7233955622840744\n",
      "micro: 0.7659303804787788\n"
     ]
    }
   ],
   "source": [
    "precision = []\n",
    "eps = 1e-8\n",
    "\n",
    "for i in range(len(cmat)):\n",
    "    precision.append(cmat[i, i] / (cmat[: , i].sum()+eps))\n",
    "\n",
    "pre = np.diag(cmat).sum() / cmat[:, 1:].sum()\n",
    "\n",
    "print(precision[1: ])\n",
    "print(\"macro:\", np.array(precision[1:]).mean())\n",
    "print(\"micro:\", pre)"
   ]
  },
  {
   "cell_type": "code",
   "execution_count": 7,
   "metadata": {},
   "outputs": [
    {
     "name": "stdout",
     "output_type": "stream",
     "text": [
      "[0.8972670398419493, 0.6440554339897885, 0.8197164078325456, 0.574926542605289]\n",
      "macro: 0.7339913560673932\n",
      "micro: 0.7892980574424979\n"
     ]
    }
   ],
   "source": [
    "recall = []\n",
    "\n",
    "for i in range(len(cmat)):\n",
    "    recall.append(cmat[i, i] / cmat[i].sum())\n",
    "\n",
    "re = np.diag(cmat).sum() / cmat[1:, :].sum()\n",
    "\n",
    "print(recall[1: ])\n",
    "print(\"macro:\", np.array(recall[1:]).mean())\n",
    "print(\"micro:\", re)"
   ]
  },
  {
   "cell_type": "code",
   "execution_count": 8,
   "metadata": {},
   "outputs": [
    {
     "name": "stdout",
     "output_type": "stream",
     "text": [
      "[0.8527616911461572, 0.6619190354811256, 0.8138092793964155, 0.5834990009624264]\n",
      "macro: 0.582397801397225\n",
      "micro: 0.7774386665101538\n"
     ]
    }
   ],
   "source": [
    "eps = 1e-8\n",
    "f1 =[]\n",
    "\n",
    "for p, r in zip(precision, recall):\n",
    "    f1.append(2 * p * r / (p + r + eps))\n",
    "\n",
    "print(f1[1: ])\n",
    "print(\"macro:\", np.array(f1).mean())\n",
    "print(\"micro:\", 2 * pre * re / (pre + re))"
   ]
  }
 ],
 "metadata": {
  "interpreter": {
   "hash": "ce839182281d104831367eceb6fa474a60176efbf0a23ceab7c844dbad4653ff"
  },
  "kernelspec": {
   "display_name": "Python 3 (ipykernel)",
   "language": "python",
   "name": "python3"
  },
  "language_info": {
   "codemirror_mode": {
    "name": "ipython",
    "version": 3
   },
   "file_extension": ".py",
   "mimetype": "text/x-python",
   "name": "python",
   "nbconvert_exporter": "python",
   "pygments_lexer": "ipython3",
   "version": "3.9.13"
  }
 },
 "nbformat": 4,
 "nbformat_minor": 2
}
