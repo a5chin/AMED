{
 "cells": [
  {
   "cell_type": "code",
   "execution_count": 1,
   "metadata": {},
   "outputs": [],
   "source": [
    "import json\n",
    "import numpy as np\n",
    "import pandas as pd\n",
    "import matplotlib.pyplot as plt\n",
    "import seaborn as sns; sns.set()\n",
    "import torch\n",
    "from torchvision.ops.boxes import box_iou"
   ]
  },
  {
   "cell_type": "code",
   "execution_count": 2,
   "metadata": {},
   "outputs": [],
   "source": [
    "class Matrix:\n",
    "    def __init__(self,\n",
    "        data_file: str=r'//aka/work/hara.e/AMED/lib/dataset/annotations/test.json',\n",
    "        preds_file: str=r'//aka/work/hara.e/AMED/weights/YOLOX/four/metric0.4.json',\n",
    "    ):\n",
    "        with open(preds_file, \"r\") as f:\n",
    "            self.preds = json.load(f)\n",
    "        with open(data_file, \"r\") as f:\n",
    "            self.data = json.load(f)['annotations']"
   ]
  },
  {
   "cell_type": "code",
   "execution_count": 3,
   "metadata": {},
   "outputs": [],
   "source": [
    "mat = Matrix(preds_file=r\"//aka/work/hara.e/AMED/weights/CenterNet/stepwise2/metric0.4.json\")"
   ]
  },
  {
   "cell_type": "code",
   "execution_count": 4,
   "metadata": {},
   "outputs": [
    {
     "data": {
      "text/html": [
       "<div>\n",
       "<style scoped>\n",
       "    .dataframe tbody tr th:only-of-type {\n",
       "        vertical-align: middle;\n",
       "    }\n",
       "\n",
       "    .dataframe tbody tr th {\n",
       "        vertical-align: top;\n",
       "    }\n",
       "\n",
       "    .dataframe thead th {\n",
       "        text-align: right;\n",
       "    }\n",
       "</style>\n",
       "<table border=\"1\" class=\"dataframe\">\n",
       "  <thead>\n",
       "    <tr style=\"text-align: right;\">\n",
       "      <th></th>\n",
       "      <th>id</th>\n",
       "      <th>category_id</th>\n",
       "      <th>bbox</th>\n",
       "    </tr>\n",
       "  </thead>\n",
       "  <tbody>\n",
       "    <tr>\n",
       "      <th>0</th>\n",
       "      <td>0</td>\n",
       "      <td>1</td>\n",
       "      <td>[317.5, 417.5, 164.0, 164.0]</td>\n",
       "    </tr>\n",
       "    <tr>\n",
       "      <th>1</th>\n",
       "      <td>5</td>\n",
       "      <td>1</td>\n",
       "      <td>[416.5, 422.5, 128.0, 128.0]</td>\n",
       "    </tr>\n",
       "    <tr>\n",
       "      <th>2</th>\n",
       "      <td>14</td>\n",
       "      <td>3</td>\n",
       "      <td>[361.5, 273.5, 108.0, 108.0]</td>\n",
       "    </tr>\n",
       "    <tr>\n",
       "      <th>3</th>\n",
       "      <td>20</td>\n",
       "      <td>4</td>\n",
       "      <td>[358.5, 293.5, 292.0, 292.0]</td>\n",
       "    </tr>\n",
       "    <tr>\n",
       "      <th>4</th>\n",
       "      <td>44</td>\n",
       "      <td>1</td>\n",
       "      <td>[548.5, 367.5, 76.0, 76.0]</td>\n",
       "    </tr>\n",
       "    <tr>\n",
       "      <th>...</th>\n",
       "      <td>...</td>\n",
       "      <td>...</td>\n",
       "      <td>...</td>\n",
       "    </tr>\n",
       "    <tr>\n",
       "      <th>8386</th>\n",
       "      <td>83868</td>\n",
       "      <td>1</td>\n",
       "      <td>[447.5, 288.5, 238.0, 238.0]</td>\n",
       "    </tr>\n",
       "    <tr>\n",
       "      <th>8387</th>\n",
       "      <td>83879</td>\n",
       "      <td>1</td>\n",
       "      <td>[396.5, 197.5, 162.0, 162.0]</td>\n",
       "    </tr>\n",
       "    <tr>\n",
       "      <th>8388</th>\n",
       "      <td>83880</td>\n",
       "      <td>1</td>\n",
       "      <td>[432.5, 395.5, 64.0, 64.0]</td>\n",
       "    </tr>\n",
       "    <tr>\n",
       "      <th>8389</th>\n",
       "      <td>83895</td>\n",
       "      <td>1</td>\n",
       "      <td>[352.5, 346.5, 72.0, 72.0]</td>\n",
       "    </tr>\n",
       "    <tr>\n",
       "      <th>8390</th>\n",
       "      <td>83899</td>\n",
       "      <td>1</td>\n",
       "      <td>[301.5, 357.5, 64.0, 64.0]</td>\n",
       "    </tr>\n",
       "  </tbody>\n",
       "</table>\n",
       "<p>8391 rows × 3 columns</p>\n",
       "</div>"
      ],
      "text/plain": [
       "         id  category_id                          bbox\n",
       "0         0            1  [317.5, 417.5, 164.0, 164.0]\n",
       "1         5            1  [416.5, 422.5, 128.0, 128.0]\n",
       "2        14            3  [361.5, 273.5, 108.0, 108.0]\n",
       "3        20            4  [358.5, 293.5, 292.0, 292.0]\n",
       "4        44            1    [548.5, 367.5, 76.0, 76.0]\n",
       "...     ...          ...                           ...\n",
       "8386  83868            1  [447.5, 288.5, 238.0, 238.0]\n",
       "8387  83879            1  [396.5, 197.5, 162.0, 162.0]\n",
       "8388  83880            1    [432.5, 395.5, 64.0, 64.0]\n",
       "8389  83895            1    [352.5, 346.5, 72.0, 72.0]\n",
       "8390  83899            1    [301.5, 357.5, 64.0, 64.0]\n",
       "\n",
       "[8391 rows x 3 columns]"
      ]
     },
     "execution_count": 4,
     "metadata": {},
     "output_type": "execute_result"
    }
   ],
   "source": [
    "data = {\"id\": [], \"category_id\": [], \"bbox\": []}\n",
    "\n",
    "for d in mat.data:\n",
    "    data[\"id\"].append(d[\"id\"])\n",
    "    data[\"category_id\"].append(d[\"category_id\"])\n",
    "    data[\"bbox\"].append(d[\"bbox\"])\n",
    "\n",
    "data = pd.DataFrame(data)\n",
    "data"
   ]
  },
  {
   "cell_type": "code",
   "execution_count": 5,
   "metadata": {},
   "outputs": [
    {
     "data": {
      "text/html": [
       "<div>\n",
       "<style scoped>\n",
       "    .dataframe tbody tr th:only-of-type {\n",
       "        vertical-align: middle;\n",
       "    }\n",
       "\n",
       "    .dataframe tbody tr th {\n",
       "        vertical-align: top;\n",
       "    }\n",
       "\n",
       "    .dataframe thead th {\n",
       "        text-align: right;\n",
       "    }\n",
       "</style>\n",
       "<table border=\"1\" class=\"dataframe\">\n",
       "  <thead>\n",
       "    <tr style=\"text-align: right;\">\n",
       "      <th></th>\n",
       "      <th>file_name</th>\n",
       "      <th>preds</th>\n",
       "      <th>reliability</th>\n",
       "      <th>bbox</th>\n",
       "    </tr>\n",
       "  </thead>\n",
       "  <tbody>\n",
       "    <tr>\n",
       "      <th>0</th>\n",
       "      <td>000000.jpg</td>\n",
       "      <td>[1]</td>\n",
       "      <td>[0.8435400128364563]</td>\n",
       "      <td>[[353.1447448730469, 443.26898193359375, 455.7...</td>\n",
       "    </tr>\n",
       "    <tr>\n",
       "      <th>1</th>\n",
       "      <td>000005.jpg</td>\n",
       "      <td>[1]</td>\n",
       "      <td>[0.6410096287727356]</td>\n",
       "      <td>[[444.5876159667969, 448.83563232421875, 510.8...</td>\n",
       "    </tr>\n",
       "    <tr>\n",
       "      <th>2</th>\n",
       "      <td>000014.jpg</td>\n",
       "      <td>[3]</td>\n",
       "      <td>[0.8789351582527161]</td>\n",
       "      <td>[[381.2187805175781, 290.2698974609375, 453.99...</td>\n",
       "    </tr>\n",
       "    <tr>\n",
       "      <th>3</th>\n",
       "      <td>000020.jpg</td>\n",
       "      <td>[4, 4]</td>\n",
       "      <td>[0.8628953099250793, 0.7508671283721924]</td>\n",
       "      <td>[[395.52850341796875, 334.54034423828125, 612....</td>\n",
       "    </tr>\n",
       "    <tr>\n",
       "      <th>4</th>\n",
       "      <td>000044.jpg</td>\n",
       "      <td>[0]</td>\n",
       "      <td>[0.0]</td>\n",
       "      <td>[[]]</td>\n",
       "    </tr>\n",
       "    <tr>\n",
       "      <th>...</th>\n",
       "      <td>...</td>\n",
       "      <td>...</td>\n",
       "      <td>...</td>\n",
       "      <td>...</td>\n",
       "    </tr>\n",
       "    <tr>\n",
       "      <th>8386</th>\n",
       "      <td>083868.jpg</td>\n",
       "      <td>[1, 1]</td>\n",
       "      <td>[0.927270770072937, 0.7985350489616394]</td>\n",
       "      <td>[[477.08612060546875, 322.5389099121094, 650.5...</td>\n",
       "    </tr>\n",
       "    <tr>\n",
       "      <th>8387</th>\n",
       "      <td>083879.jpg</td>\n",
       "      <td>[1]</td>\n",
       "      <td>[0.958954393863678]</td>\n",
       "      <td>[[329.6592102050781, 134.15313720703125, 617.9...</td>\n",
       "    </tr>\n",
       "    <tr>\n",
       "      <th>8388</th>\n",
       "      <td>083880.jpg</td>\n",
       "      <td>[1]</td>\n",
       "      <td>[0.9043828845024109]</td>\n",
       "      <td>[[408.8200378417969, 372.0708923339844, 523.76...</td>\n",
       "    </tr>\n",
       "    <tr>\n",
       "      <th>8389</th>\n",
       "      <td>083895.jpg</td>\n",
       "      <td>[1]</td>\n",
       "      <td>[0.8744894862174988]</td>\n",
       "      <td>[[354.41168212890625, 344.5730895996094, 435.6...</td>\n",
       "    </tr>\n",
       "    <tr>\n",
       "      <th>8390</th>\n",
       "      <td>083899.jpg</td>\n",
       "      <td>[1]</td>\n",
       "      <td>[0.8418660163879395]</td>\n",
       "      <td>[[290.9461364746094, 344.25213623046875, 375.8...</td>\n",
       "    </tr>\n",
       "  </tbody>\n",
       "</table>\n",
       "<p>8391 rows × 4 columns</p>\n",
       "</div>"
      ],
      "text/plain": [
       "       file_name   preds                               reliability  \\\n",
       "0     000000.jpg     [1]                      [0.8435400128364563]   \n",
       "1     000005.jpg     [1]                      [0.6410096287727356]   \n",
       "2     000014.jpg     [3]                      [0.8789351582527161]   \n",
       "3     000020.jpg  [4, 4]  [0.8628953099250793, 0.7508671283721924]   \n",
       "4     000044.jpg     [0]                                     [0.0]   \n",
       "...          ...     ...                                       ...   \n",
       "8386  083868.jpg  [1, 1]   [0.927270770072937, 0.7985350489616394]   \n",
       "8387  083879.jpg     [1]                       [0.958954393863678]   \n",
       "8388  083880.jpg     [1]                      [0.9043828845024109]   \n",
       "8389  083895.jpg     [1]                      [0.8744894862174988]   \n",
       "8390  083899.jpg     [1]                      [0.8418660163879395]   \n",
       "\n",
       "                                                   bbox  \n",
       "0     [[353.1447448730469, 443.26898193359375, 455.7...  \n",
       "1     [[444.5876159667969, 448.83563232421875, 510.8...  \n",
       "2     [[381.2187805175781, 290.2698974609375, 453.99...  \n",
       "3     [[395.52850341796875, 334.54034423828125, 612....  \n",
       "4                                                  [[]]  \n",
       "...                                                 ...  \n",
       "8386  [[477.08612060546875, 322.5389099121094, 650.5...  \n",
       "8387  [[329.6592102050781, 134.15313720703125, 617.9...  \n",
       "8388  [[408.8200378417969, 372.0708923339844, 523.76...  \n",
       "8389  [[354.41168212890625, 344.5730895996094, 435.6...  \n",
       "8390  [[290.9461364746094, 344.25213623046875, 375.8...  \n",
       "\n",
       "[8391 rows x 4 columns]"
      ]
     },
     "execution_count": 5,
     "metadata": {},
     "output_type": "execute_result"
    }
   ],
   "source": [
    "preds = {\"file_name\": [], \"preds\": [], \"reliability\": [], \"bbox\": []}\n",
    "\n",
    "for f, p, r, b in zip(mat.preds[\"file_name\"], mat.preds[\"preds\"], mat.preds[\"reliability\"], mat.preds[\"bbox\"]):\n",
    "    preds[\"file_name\"].append(f)\n",
    "    preds[\"preds\"].append(p)\n",
    "    preds[\"reliability\"].append(r)\n",
    "    preds[\"bbox\"].append(b)\n",
    "\n",
    "preds = pd.DataFrame(preds)\n",
    "preds"
   ]
  },
  {
   "cell_type": "code",
   "execution_count": 6,
   "metadata": {},
   "outputs": [
    {
     "data": {
      "text/plain": [
       "file_name                                             000104.jpg\n",
       "preds                                                        [1]\n",
       "reliability                                 [0.8457605242729187]\n",
       "bbox           [[292.53631591796875, 453.4455261230469, 382.2...\n",
       "Name: 9, dtype: object"
      ]
     },
     "execution_count": 6,
     "metadata": {},
     "output_type": "execute_result"
    }
   ],
   "source": [
    "preds.iloc[9]"
   ]
  },
  {
   "cell_type": "code",
   "execution_count": 7,
   "metadata": {},
   "outputs": [
    {
     "data": {
      "text/html": [
       "<div>\n",
       "<style scoped>\n",
       "    .dataframe tbody tr th:only-of-type {\n",
       "        vertical-align: middle;\n",
       "    }\n",
       "\n",
       "    .dataframe tbody tr th {\n",
       "        vertical-align: top;\n",
       "    }\n",
       "\n",
       "    .dataframe thead th {\n",
       "        text-align: right;\n",
       "    }\n",
       "</style>\n",
       "<table border=\"1\" class=\"dataframe\">\n",
       "  <thead>\n",
       "    <tr style=\"text-align: right;\">\n",
       "      <th></th>\n",
       "      <th>iou</th>\n",
       "    </tr>\n",
       "  </thead>\n",
       "  <tbody>\n",
       "    <tr>\n",
       "      <th>0</th>\n",
       "      <td>[0.39239001274108887]</td>\n",
       "    </tr>\n",
       "    <tr>\n",
       "      <th>1</th>\n",
       "      <td>[0.2641383111476898]</td>\n",
       "    </tr>\n",
       "    <tr>\n",
       "      <th>2</th>\n",
       "      <td>[0.4530755579471588]</td>\n",
       "    </tr>\n",
       "    <tr>\n",
       "      <th>3</th>\n",
       "      <td>[0.5454360246658325, 0.11127623915672302]</td>\n",
       "    </tr>\n",
       "    <tr>\n",
       "      <th>4</th>\n",
       "      <td>[0.0]</td>\n",
       "    </tr>\n",
       "    <tr>\n",
       "      <th>...</th>\n",
       "      <td>...</td>\n",
       "    </tr>\n",
       "    <tr>\n",
       "      <th>8386</th>\n",
       "      <td>[0.5335068106651306, 0.0]</td>\n",
       "    </tr>\n",
       "    <tr>\n",
       "      <th>8387</th>\n",
       "      <td>[0.3161921203136444]</td>\n",
       "    </tr>\n",
       "    <tr>\n",
       "      <th>8388</th>\n",
       "      <td>[0.3088900148868561]</td>\n",
       "    </tr>\n",
       "    <tr>\n",
       "      <th>8389</th>\n",
       "      <td>[0.7420859932899475]</td>\n",
       "    </tr>\n",
       "    <tr>\n",
       "      <th>8390</th>\n",
       "      <td>[0.573039174079895]</td>\n",
       "    </tr>\n",
       "  </tbody>\n",
       "</table>\n",
       "<p>8391 rows × 1 columns</p>\n",
       "</div>"
      ],
      "text/plain": [
       "                                            iou\n",
       "0                         [0.39239001274108887]\n",
       "1                          [0.2641383111476898]\n",
       "2                          [0.4530755579471588]\n",
       "3     [0.5454360246658325, 0.11127623915672302]\n",
       "4                                         [0.0]\n",
       "...                                         ...\n",
       "8386                  [0.5335068106651306, 0.0]\n",
       "8387                       [0.3161921203136444]\n",
       "8388                       [0.3088900148868561]\n",
       "8389                       [0.7420859932899475]\n",
       "8390                        [0.573039174079895]\n",
       "\n",
       "[8391 rows x 1 columns]"
      ]
     },
     "execution_count": 7,
     "metadata": {},
     "output_type": "execute_result"
    }
   ],
   "source": [
    "def calc_iou(pred: list, label: list) -> list:\n",
    "    x, y, w, h = label\n",
    "    if pred != [[]]:\n",
    "        pred, label = torch.Tensor(pred), torch.Tensor([[x, y, x + w, y + h]])\n",
    "        iou = box_iou(pred, label)\n",
    "    else:\n",
    "        iou = torch.Tensor([[0.]])\n",
    "    return iou.flatten().tolist()\n",
    "\n",
    "df_iou = {\"iou\": []}\n",
    "for i in range(len(preds)):\n",
    "    iou = calc_iou(preds.iloc[i][\"bbox\"], data.iloc[i][\"bbox\"])\n",
    "    df_iou[\"iou\"].append(iou)\n",
    "df_iou = pd.DataFrame(df_iou)\n",
    "df_iou"
   ]
  },
  {
   "cell_type": "code",
   "execution_count": 8,
   "metadata": {},
   "outputs": [
    {
     "data": {
      "text/html": [
       "<div>\n",
       "<style scoped>\n",
       "    .dataframe tbody tr th:only-of-type {\n",
       "        vertical-align: middle;\n",
       "    }\n",
       "\n",
       "    .dataframe tbody tr th {\n",
       "        vertical-align: top;\n",
       "    }\n",
       "\n",
       "    .dataframe thead th {\n",
       "        text-align: right;\n",
       "    }\n",
       "</style>\n",
       "<table border=\"1\" class=\"dataframe\">\n",
       "  <thead>\n",
       "    <tr style=\"text-align: right;\">\n",
       "      <th></th>\n",
       "      <th>file_name</th>\n",
       "      <th>preds</th>\n",
       "      <th>reliability</th>\n",
       "      <th>bbox</th>\n",
       "      <th>label</th>\n",
       "      <th>iou</th>\n",
       "    </tr>\n",
       "  </thead>\n",
       "  <tbody>\n",
       "    <tr>\n",
       "      <th>0</th>\n",
       "      <td>000000.jpg</td>\n",
       "      <td>[1]</td>\n",
       "      <td>[0.8435400128364563]</td>\n",
       "      <td>[[353.1447448730469, 443.26898193359375, 455.7...</td>\n",
       "      <td>1</td>\n",
       "      <td>[0.39239001274108887]</td>\n",
       "    </tr>\n",
       "    <tr>\n",
       "      <th>1</th>\n",
       "      <td>000005.jpg</td>\n",
       "      <td>[1]</td>\n",
       "      <td>[0.6410096287727356]</td>\n",
       "      <td>[[444.5876159667969, 448.83563232421875, 510.8...</td>\n",
       "      <td>1</td>\n",
       "      <td>[0.2641383111476898]</td>\n",
       "    </tr>\n",
       "    <tr>\n",
       "      <th>2</th>\n",
       "      <td>000014.jpg</td>\n",
       "      <td>[3]</td>\n",
       "      <td>[0.8789351582527161]</td>\n",
       "      <td>[[381.2187805175781, 290.2698974609375, 453.99...</td>\n",
       "      <td>3</td>\n",
       "      <td>[0.4530755579471588]</td>\n",
       "    </tr>\n",
       "    <tr>\n",
       "      <th>3</th>\n",
       "      <td>000020.jpg</td>\n",
       "      <td>[4, 4]</td>\n",
       "      <td>[0.8628953099250793, 0.7508671283721924]</td>\n",
       "      <td>[[395.52850341796875, 334.54034423828125, 612....</td>\n",
       "      <td>4</td>\n",
       "      <td>[0.5454360246658325, 0.11127623915672302]</td>\n",
       "    </tr>\n",
       "    <tr>\n",
       "      <th>4</th>\n",
       "      <td>000044.jpg</td>\n",
       "      <td>[0]</td>\n",
       "      <td>[0.0]</td>\n",
       "      <td>[[]]</td>\n",
       "      <td>1</td>\n",
       "      <td>[0.0]</td>\n",
       "    </tr>\n",
       "    <tr>\n",
       "      <th>...</th>\n",
       "      <td>...</td>\n",
       "      <td>...</td>\n",
       "      <td>...</td>\n",
       "      <td>...</td>\n",
       "      <td>...</td>\n",
       "      <td>...</td>\n",
       "    </tr>\n",
       "    <tr>\n",
       "      <th>8386</th>\n",
       "      <td>083868.jpg</td>\n",
       "      <td>[1, 1]</td>\n",
       "      <td>[0.927270770072937, 0.7985350489616394]</td>\n",
       "      <td>[[477.08612060546875, 322.5389099121094, 650.5...</td>\n",
       "      <td>1</td>\n",
       "      <td>[0.5335068106651306, 0.0]</td>\n",
       "    </tr>\n",
       "    <tr>\n",
       "      <th>8387</th>\n",
       "      <td>083879.jpg</td>\n",
       "      <td>[1]</td>\n",
       "      <td>[0.958954393863678]</td>\n",
       "      <td>[[329.6592102050781, 134.15313720703125, 617.9...</td>\n",
       "      <td>1</td>\n",
       "      <td>[0.3161921203136444]</td>\n",
       "    </tr>\n",
       "    <tr>\n",
       "      <th>8388</th>\n",
       "      <td>083880.jpg</td>\n",
       "      <td>[1]</td>\n",
       "      <td>[0.9043828845024109]</td>\n",
       "      <td>[[408.8200378417969, 372.0708923339844, 523.76...</td>\n",
       "      <td>1</td>\n",
       "      <td>[0.3088900148868561]</td>\n",
       "    </tr>\n",
       "    <tr>\n",
       "      <th>8389</th>\n",
       "      <td>083895.jpg</td>\n",
       "      <td>[1]</td>\n",
       "      <td>[0.8744894862174988]</td>\n",
       "      <td>[[354.41168212890625, 344.5730895996094, 435.6...</td>\n",
       "      <td>1</td>\n",
       "      <td>[0.7420859932899475]</td>\n",
       "    </tr>\n",
       "    <tr>\n",
       "      <th>8390</th>\n",
       "      <td>083899.jpg</td>\n",
       "      <td>[1]</td>\n",
       "      <td>[0.8418660163879395]</td>\n",
       "      <td>[[290.9461364746094, 344.25213623046875, 375.8...</td>\n",
       "      <td>1</td>\n",
       "      <td>[0.573039174079895]</td>\n",
       "    </tr>\n",
       "  </tbody>\n",
       "</table>\n",
       "<p>8391 rows × 6 columns</p>\n",
       "</div>"
      ],
      "text/plain": [
       "       file_name   preds                               reliability  \\\n",
       "0     000000.jpg     [1]                      [0.8435400128364563]   \n",
       "1     000005.jpg     [1]                      [0.6410096287727356]   \n",
       "2     000014.jpg     [3]                      [0.8789351582527161]   \n",
       "3     000020.jpg  [4, 4]  [0.8628953099250793, 0.7508671283721924]   \n",
       "4     000044.jpg     [0]                                     [0.0]   \n",
       "...          ...     ...                                       ...   \n",
       "8386  083868.jpg  [1, 1]   [0.927270770072937, 0.7985350489616394]   \n",
       "8387  083879.jpg     [1]                       [0.958954393863678]   \n",
       "8388  083880.jpg     [1]                      [0.9043828845024109]   \n",
       "8389  083895.jpg     [1]                      [0.8744894862174988]   \n",
       "8390  083899.jpg     [1]                      [0.8418660163879395]   \n",
       "\n",
       "                                                   bbox  label  \\\n",
       "0     [[353.1447448730469, 443.26898193359375, 455.7...      1   \n",
       "1     [[444.5876159667969, 448.83563232421875, 510.8...      1   \n",
       "2     [[381.2187805175781, 290.2698974609375, 453.99...      3   \n",
       "3     [[395.52850341796875, 334.54034423828125, 612....      4   \n",
       "4                                                  [[]]      1   \n",
       "...                                                 ...    ...   \n",
       "8386  [[477.08612060546875, 322.5389099121094, 650.5...      1   \n",
       "8387  [[329.6592102050781, 134.15313720703125, 617.9...      1   \n",
       "8388  [[408.8200378417969, 372.0708923339844, 523.76...      1   \n",
       "8389  [[354.41168212890625, 344.5730895996094, 435.6...      1   \n",
       "8390  [[290.9461364746094, 344.25213623046875, 375.8...      1   \n",
       "\n",
       "                                            iou  \n",
       "0                         [0.39239001274108887]  \n",
       "1                          [0.2641383111476898]  \n",
       "2                          [0.4530755579471588]  \n",
       "3     [0.5454360246658325, 0.11127623915672302]  \n",
       "4                                         [0.0]  \n",
       "...                                         ...  \n",
       "8386                  [0.5335068106651306, 0.0]  \n",
       "8387                       [0.3161921203136444]  \n",
       "8388                       [0.3088900148868561]  \n",
       "8389                       [0.7420859932899475]  \n",
       "8390                        [0.573039174079895]  \n",
       "\n",
       "[8391 rows x 6 columns]"
      ]
     },
     "execution_count": 8,
     "metadata": {},
     "output_type": "execute_result"
    }
   ],
   "source": [
    "preds[\"label\"] = data[\"category_id\"]\n",
    "preds[\"iou\"] = df_iou[\"iou\"]\n",
    "preds"
   ]
  },
  {
   "cell_type": "code",
   "execution_count": 9,
   "metadata": {},
   "outputs": [
    {
     "data": {
      "text/plain": [
       "file_name      006611.jpg\n",
       "preds                 [0]\n",
       "reliability         [0.0]\n",
       "bbox                 [[]]\n",
       "label                   3\n",
       "iou                 [0.0]\n",
       "Name: 659, dtype: object"
      ]
     },
     "execution_count": 9,
     "metadata": {},
     "output_type": "execute_result"
    }
   ],
   "source": [
    "preds.iloc[659]"
   ]
  },
  {
   "cell_type": "code",
   "execution_count": 10,
   "metadata": {},
   "outputs": [
    {
     "name": "stdout",
     "output_type": "stream",
     "text": [
      "7337 1191.0\n"
     ]
    },
    {
     "data": {
      "text/plain": [
       "array([[   0,    0,    0,    0,    0],\n",
       "       [ 233, 3211,   10,   14,   10],\n",
       "       [ 259,    9, 1800,  136,  137],\n",
       "       [ 354,   24,   95, 2930,   72],\n",
       "       [ 208,   13,  157,   85,  728]], dtype=int16)"
      ]
     },
     "execution_count": 10,
     "metadata": {},
     "output_type": "execute_result"
    }
   ],
   "source": [
    "def preprocess(iou_th, conf_th, df):\n",
    "    confs, ious = np.array(df[\"reliability\"]), np.array(df[\"iou\"])\n",
    "    preds = np.array(df[\"preds\"])\n",
    "\n",
    "    mask = (conf_th < confs) & (iou_th < ious)\n",
    "\n",
    "    preds, confs, ious = preds[mask], confs[mask], ious[mask]\n",
    "\n",
    "    return zip(preds, confs, ious)\n",
    "\n",
    "\n",
    "th_iou = 0.25\n",
    "\n",
    "heat = np.zeros((5, 5))\n",
    "c = 0\n",
    "\n",
    "for i in range(len(preds)):\n",
    "    row = preds.iloc[i, :]\n",
    "    label = row[\"label\"]\n",
    "\n",
    "    counter = [0, 0, 0, 0]\n",
    "\n",
    "    # 未検出\n",
    "    if 0 in row[\"preds\"]:\n",
    "        heat[label, 0] += 1\n",
    "\n",
    "    # detected\n",
    "    else:\n",
    "        c += 1\n",
    "        for pred, conf, iou in preprocess(iou_th=0.25, conf_th=0.35, df=preds.iloc[i]):\n",
    "            heat[label, pred] += 1\n",
    "\n",
    "            \n",
    "\n",
    "print(c, heat[4].sum())\n",
    "\n",
    "heat.astype(np.int16)"
   ]
  },
  {
   "cell_type": "code",
   "execution_count": 11,
   "metadata": {},
   "outputs": [
    {
     "name": "stdout",
     "output_type": "stream",
     "text": [
      "0\n"
     ]
    },
    {
     "data": {
      "text/plain": [
       "array([[   0,  492,  168,  301,  172],\n",
       "       [ 357, 2651,    8,   12,    9],\n",
       "       [ 339,    8,  825,   97,  102],\n",
       "       [ 465,   23,   57, 2359,   58],\n",
       "       [ 290,   13,   84,   80,  554]], dtype=int16)"
      ]
     },
     "execution_count": 11,
     "metadata": {},
     "output_type": "execute_result"
    }
   ],
   "source": [
    "th_iou = 0.25\n",
    "\n",
    "heat = np.zeros((5, 5))\n",
    "c = 0\n",
    "mc = 0\n",
    "\n",
    "for i in range(len(preds)):\n",
    "    heat_temp = np.zeros((5, 5))\n",
    "    row = preds.iloc[i, :]\n",
    "    label = row[\"label\"]\n",
    "\n",
    "    if label == 1:\n",
    "        mc += 1\n",
    "\n",
    "    # 未検出\n",
    "    if 0 in row[\"preds\"]:\n",
    "        heat_temp[label, 0] += 1\n",
    "\n",
    "    elif (np.array(row[\"iou\"]) > th_iou).sum() >= 2:\n",
    "        pred = row[\"preds\"][np.array(row[\"reliability\"]).argmax()]\n",
    "        heat_temp[label, pred] += 1\n",
    "    # detected\n",
    "    else:\n",
    "        for pred, iou in zip(row[\"preds\"], row[\"iou\"]):\n",
    "            # IoUが閾値以上\n",
    "            if iou >= th_iou:\n",
    "                heat_temp[label, pred] += 1\n",
    "\n",
    "            # 過検出\n",
    "            else:\n",
    "                heat_temp[0, pred] += 1\n",
    "                heat_temp[label, 0] += 1\n",
    "\n",
    "    for j, diagnosis in enumerate(heat_temp):\n",
    "        if j == 0:\n",
    "            continue\n",
    "        while diagnosis.sum() >= 2:\n",
    "            heat_temp[j, 0] -= 1\n",
    "\n",
    "    heat += heat_temp\n",
    "#     print(i, mc, heat[1].sum())\n",
    "#     print(i, heat)\n",
    "\n",
    "print(c)\n",
    "heat.astype(np.int16)"
   ]
  },
  {
   "cell_type": "code",
   "execution_count": 12,
   "metadata": {},
   "outputs": [
    {
     "data": {
      "text/plain": [
       "Text(30.453125, 0.5, 'Label')"
      ]
     },
     "execution_count": 12,
     "metadata": {},
     "output_type": "execute_result"
    },
    {
     "data": {
      "image/png": "[encoded data removed]",
      "text/plain": [
       "<Figure size 432x288 with 1 Axes>"
      ]
     },
     "metadata": {},
     "output_type": "display_data"
    }
   ],
   "source": [
    "tics = [\"cyst\", \"HCC\", \"hem.\", \"Meta\"]\n",
    "sns.heatmap(heat[:, :].astype(np.int16), cmap=\"Blues\", annot=True, fmt='d', cbar=False, xticklabels=[\"None\"] + tics, yticklabels=[\"None\"] + tics)\n",
    "plt.xlabel(\"Preds\")\n",
    "plt.ylabel(\"Label\")\n",
    "# plt.savefig(r\"D:/Users/hara.e/Dropbox/ゼミ/AMED/fig/heatmap_centernet_stepwise2.pdf\")"
   ]
  },
  {
   "cell_type": "code",
   "execution_count": 13,
   "metadata": {},
   "outputs": [
    {
     "name": "stdout",
     "output_type": "stream",
     "text": [
      "[0.8318167555695011, 0.7224168126094571, 0.828009828009828, 0.6189944134078212]\n"
     ]
    },
    {
     "data": {
      "text/plain": [
       "0.7503094523991518"
      ]
     },
     "execution_count": 13,
     "metadata": {},
     "output_type": "execute_result"
    }
   ],
   "source": [
    "precision = []\n",
    "for i in range(len(heat)):\n",
    "    precision.append(heat[i, i] / heat[: , i].sum())\n",
    "\n",
    "print(precision[1: ])\n",
    "np.mean(precision[1: ])"
   ]
  },
  {
   "cell_type": "code",
   "execution_count": 14,
   "metadata": {},
   "outputs": [
    {
     "name": "stdout",
     "output_type": "stream",
     "text": [
      "[0.8729008890352321, 0.6017505470459519, 0.7964213369345037, 0.5426052889324192]\n"
     ]
    },
    {
     "data": {
      "text/plain": [
       "0.7034195154870267"
      ]
     },
     "execution_count": 14,
     "metadata": {},
     "output_type": "execute_result"
    }
   ],
   "source": [
    "recall = []\n",
    "for i in range(len(heat)):\n",
    "    recall.append(heat[i, i] / heat[i].sum())\n",
    "\n",
    "print(recall[1: ])\n",
    "np.mean(recall[1: ])"
   ]
  },
  {
   "cell_type": "code",
   "execution_count": 15,
   "metadata": {},
   "outputs": [
    {
     "name": "stdout",
     "output_type": "stream",
     "text": [
      "[0.8518637532133676, 0.6565857540787903, 0.8119084494923421, 0.5782881002087683]\n"
     ]
    },
    {
     "name": "stderr",
     "output_type": "stream",
     "text": [
      "D:\\Users\\hara.e\\AppData\\Local\\Continuum\\miniconda3\\envs\\amed\\lib\\site-packages\\ipykernel_launcher.py:3: RuntimeWarning: invalid value encountered in double_scalars\n",
      "  This is separate from the ipykernel package so we can avoid doing imports until\n"
     ]
    },
    {
     "data": {
      "text/plain": [
       "0.724661514248317"
      ]
     },
     "execution_count": 15,
     "metadata": {},
     "output_type": "execute_result"
    }
   ],
   "source": [
    "f1 =[]\n",
    "for p, r in zip(precision, recall):\n",
    "    f1.append(2 * p * r / (p + r))\n",
    "print(f1[1: ])\n",
    "np.mean(f1[1: ])"
   ]
  }
 ],
 "metadata": {
  "kernelspec": {
   "display_name": "Python 3.9.12 ('alacarte')",
   "language": "python",
   "name": "python3"
  },
  "language_info": {
   "codemirror_mode": {
    "name": "ipython",
    "version": 3
   },
   "file_extension": ".py",
   "mimetype": "text/x-python",
   "name": "python",
   "nbconvert_exporter": "python",
   "pygments_lexer": "ipython3",
   "version": "3.9.12"
  },
  "vscode": {
   "interpreter": {
    "hash": "2352818a1f9be0059759d08a4bc4f76cbc82d642e19e308d63dd40083a2f0348"
   }
  }
 },
 "nbformat": 4,
 "nbformat_minor": 2
}
