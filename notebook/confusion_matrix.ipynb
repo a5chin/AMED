{
 "cells": [
  {
   "cell_type": "code",
   "execution_count": 1,
   "metadata": {},
   "outputs": [],
   "source": [
    "import json\n",
    "import numpy as np\n",
    "import pandas as pd\n",
    "import matplotlib.pyplot as plt\n",
    "import seaborn as sns; sns.set()"
   ]
  },
  {
   "cell_type": "code",
   "execution_count": 2,
   "metadata": {},
   "outputs": [],
   "source": [
    "class Matrix:\n",
    "    def __init__(self,\n",
    "        data_file: str=r'//aka/work/hara.e/AMED/lib/dataset/annotations/test.json',\n",
    "        preds_file: str=r'//aka/work/hara.e/AMED/YOLOX4/YOLOX_outputs/amed/metric.json',\n",
    "    ):\n",
    "        with open(preds_file, \"r\") as f:\n",
    "            self.preds = json.load(f)\n",
    "        with open(data_file, \"r\") as f:\n",
    "            self.data = json.load(f)['annotations']"
   ]
  },
  {
   "cell_type": "code",
   "execution_count": 3,
   "metadata": {},
   "outputs": [],
   "source": [
    "mat = Matrix()"
   ]
  },
  {
   "cell_type": "code",
   "execution_count": 4,
   "metadata": {},
   "outputs": [
    {
     "data": {
      "text/html": [
       "<div>\n",
       "<style scoped>\n",
       "    .dataframe tbody tr th:only-of-type {\n",
       "        vertical-align: middle;\n",
       "    }\n",
       "\n",
       "    .dataframe tbody tr th {\n",
       "        vertical-align: top;\n",
       "    }\n",
       "\n",
       "    .dataframe thead th {\n",
       "        text-align: right;\n",
       "    }\n",
       "</style>\n",
       "<table border=\"1\" class=\"dataframe\">\n",
       "  <thead>\n",
       "    <tr style=\"text-align: right;\">\n",
       "      <th></th>\n",
       "      <th>id</th>\n",
       "      <th>category_id</th>\n",
       "    </tr>\n",
       "  </thead>\n",
       "  <tbody>\n",
       "    <tr>\n",
       "      <th>0</th>\n",
       "      <td>0</td>\n",
       "      <td>1</td>\n",
       "    </tr>\n",
       "    <tr>\n",
       "      <th>1</th>\n",
       "      <td>5</td>\n",
       "      <td>1</td>\n",
       "    </tr>\n",
       "    <tr>\n",
       "      <th>2</th>\n",
       "      <td>14</td>\n",
       "      <td>3</td>\n",
       "    </tr>\n",
       "    <tr>\n",
       "      <th>3</th>\n",
       "      <td>20</td>\n",
       "      <td>4</td>\n",
       "    </tr>\n",
       "    <tr>\n",
       "      <th>4</th>\n",
       "      <td>44</td>\n",
       "      <td>1</td>\n",
       "    </tr>\n",
       "    <tr>\n",
       "      <th>...</th>\n",
       "      <td>...</td>\n",
       "      <td>...</td>\n",
       "    </tr>\n",
       "    <tr>\n",
       "      <th>8386</th>\n",
       "      <td>83868</td>\n",
       "      <td>1</td>\n",
       "    </tr>\n",
       "    <tr>\n",
       "      <th>8387</th>\n",
       "      <td>83879</td>\n",
       "      <td>1</td>\n",
       "    </tr>\n",
       "    <tr>\n",
       "      <th>8388</th>\n",
       "      <td>83880</td>\n",
       "      <td>1</td>\n",
       "    </tr>\n",
       "    <tr>\n",
       "      <th>8389</th>\n",
       "      <td>83895</td>\n",
       "      <td>1</td>\n",
       "    </tr>\n",
       "    <tr>\n",
       "      <th>8390</th>\n",
       "      <td>83899</td>\n",
       "      <td>1</td>\n",
       "    </tr>\n",
       "  </tbody>\n",
       "</table>\n",
       "<p>8391 rows × 2 columns</p>\n",
       "</div>"
      ],
      "text/plain": [
       "         id  category_id\n",
       "0         0            1\n",
       "1         5            1\n",
       "2        14            3\n",
       "3        20            4\n",
       "4        44            1\n",
       "...     ...          ...\n",
       "8386  83868            1\n",
       "8387  83879            1\n",
       "8388  83880            1\n",
       "8389  83895            1\n",
       "8390  83899            1\n",
       "\n",
       "[8391 rows x 2 columns]"
      ]
     },
     "execution_count": 4,
     "metadata": {},
     "output_type": "execute_result"
    }
   ],
   "source": [
    "data = {\"id\": [], \"category_id\": []}\n",
    "\n",
    "for d in mat.data:\n",
    "    data[\"id\"].append(d[\"id\"])\n",
    "    data[\"category_id\"].append(d[\"category_id\"])\n",
    "\n",
    "data = pd.DataFrame(data)\n",
    "data"
   ]
  },
  {
   "cell_type": "code",
   "execution_count": 5,
   "metadata": {},
   "outputs": [
    {
     "data": {
      "text/html": [
       "<div>\n",
       "<style scoped>\n",
       "    .dataframe tbody tr th:only-of-type {\n",
       "        vertical-align: middle;\n",
       "    }\n",
       "\n",
       "    .dataframe tbody tr th {\n",
       "        vertical-align: top;\n",
       "    }\n",
       "\n",
       "    .dataframe thead th {\n",
       "        text-align: right;\n",
       "    }\n",
       "</style>\n",
       "<table border=\"1\" class=\"dataframe\">\n",
       "  <thead>\n",
       "    <tr style=\"text-align: right;\">\n",
       "      <th></th>\n",
       "      <th>file_name</th>\n",
       "      <th>preds</th>\n",
       "      <th>reliability</th>\n",
       "    </tr>\n",
       "  </thead>\n",
       "  <tbody>\n",
       "    <tr>\n",
       "      <th>0</th>\n",
       "      <td>000000.jpg</td>\n",
       "      <td>[1]</td>\n",
       "      <td>[0.6702192595725549]</td>\n",
       "    </tr>\n",
       "    <tr>\n",
       "      <th>1</th>\n",
       "      <td>000005.jpg</td>\n",
       "      <td>[1]</td>\n",
       "      <td>[0.39854795568076185]</td>\n",
       "    </tr>\n",
       "    <tr>\n",
       "      <th>2</th>\n",
       "      <td>000014.jpg</td>\n",
       "      <td>[3]</td>\n",
       "      <td>[0.7194438253348068]</td>\n",
       "    </tr>\n",
       "    <tr>\n",
       "      <th>3</th>\n",
       "      <td>000020.jpg</td>\n",
       "      <td>[3, 4]</td>\n",
       "      <td>[0.5566915930620269, 0.26400401357988734]</td>\n",
       "    </tr>\n",
       "    <tr>\n",
       "      <th>4</th>\n",
       "      <td>000044.jpg</td>\n",
       "      <td>[1, 2]</td>\n",
       "      <td>[0.2881820499281247, 0.2530834369605799]</td>\n",
       "    </tr>\n",
       "    <tr>\n",
       "      <th>...</th>\n",
       "      <td>...</td>\n",
       "      <td>...</td>\n",
       "      <td>...</td>\n",
       "    </tr>\n",
       "    <tr>\n",
       "      <th>8386</th>\n",
       "      <td>083868.jpg</td>\n",
       "      <td>[1, 1]</td>\n",
       "      <td>[0.7601352048133947, 0.3681895426721553]</td>\n",
       "    </tr>\n",
       "    <tr>\n",
       "      <th>8387</th>\n",
       "      <td>083879.jpg</td>\n",
       "      <td>[1]</td>\n",
       "      <td>[0.7204177253610737]</td>\n",
       "    </tr>\n",
       "    <tr>\n",
       "      <th>8388</th>\n",
       "      <td>083880.jpg</td>\n",
       "      <td>[1]</td>\n",
       "      <td>[0.721004648401891]</td>\n",
       "    </tr>\n",
       "    <tr>\n",
       "      <th>8389</th>\n",
       "      <td>083895.jpg</td>\n",
       "      <td>[1]</td>\n",
       "      <td>[0.6664180484524458]</td>\n",
       "    </tr>\n",
       "    <tr>\n",
       "      <th>8390</th>\n",
       "      <td>083899.jpg</td>\n",
       "      <td>[1]</td>\n",
       "      <td>[0.6838622768784148]</td>\n",
       "    </tr>\n",
       "  </tbody>\n",
       "</table>\n",
       "<p>8391 rows × 3 columns</p>\n",
       "</div>"
      ],
      "text/plain": [
       "       file_name   preds                                reliability\n",
       "0     000000.jpg     [1]                       [0.6702192595725549]\n",
       "1     000005.jpg     [1]                      [0.39854795568076185]\n",
       "2     000014.jpg     [3]                       [0.7194438253348068]\n",
       "3     000020.jpg  [3, 4]  [0.5566915930620269, 0.26400401357988734]\n",
       "4     000044.jpg  [1, 2]   [0.2881820499281247, 0.2530834369605799]\n",
       "...          ...     ...                                        ...\n",
       "8386  083868.jpg  [1, 1]   [0.7601352048133947, 0.3681895426721553]\n",
       "8387  083879.jpg     [1]                       [0.7204177253610737]\n",
       "8388  083880.jpg     [1]                        [0.721004648401891]\n",
       "8389  083895.jpg     [1]                       [0.6664180484524458]\n",
       "8390  083899.jpg     [1]                       [0.6838622768784148]\n",
       "\n",
       "[8391 rows x 3 columns]"
      ]
     },
     "execution_count": 5,
     "metadata": {},
     "output_type": "execute_result"
    }
   ],
   "source": [
    "preds = {\"file_name\": [], \"preds\": [], \"reliability\": []}\n",
    "\n",
    "for f, p, r in zip(mat.preds[\"images\"], mat.preds[\"preds\"], mat.preds[\"reliability\"]):\n",
    "    preds[\"file_name\"].append(f)\n",
    "    preds[\"preds\"].append(p)\n",
    "    preds[\"reliability\"].append(r)\n",
    "\n",
    "preds = pd.DataFrame(preds)\n",
    "preds"
   ]
  },
  {
   "cell_type": "code",
   "execution_count": 6,
   "metadata": {},
   "outputs": [
    {
     "data": {
      "text/plain": [
       "array([[   0.,    0.,    0.,    0.,    0.],\n",
       "       [  60., 2897.,   36.,   44.,    0.],\n",
       "       [ 106.,   52.,  995.,  200.,   18.],\n",
       "       [ 180.,  118.,  179., 2472.,   13.],\n",
       "       [  71.,   89.,  505.,  209.,  147.]])"
      ]
     },
     "execution_count": 6,
     "metadata": {},
     "output_type": "execute_result"
    }
   ],
   "source": [
    "heat = np.zeros((5, 5))\n",
    "\n",
    "for cat, pred, r in zip(data[\"category_id\"], preds[\"preds\"], preds[\"reliability\"]):\n",
    "    if pred == 0:\n",
    "        heat[cat, pred] += 1\n",
    "    elif cat in pred:\n",
    "        heat[cat, cat] += 1\n",
    "    else:\n",
    "        arg = np.argmax(r)\n",
    "        heat[cat, pred[arg]] += 1\n",
    "\n",
    "heat"
   ]
  },
  {
   "cell_type": "code",
   "execution_count": 7,
   "metadata": {},
   "outputs": [
    {
     "data": {
      "image/png": "[encoded data removed]",
      "text/plain": [
       "<Figure size 432x288 with 1 Axes>"
      ]
     },
     "metadata": {},
     "output_type": "display_data"
    }
   ],
   "source": [
    "tics = [\"cyst\", \"HCC\", \"hemangioma\", \"Meta\"]\n",
    "sns.heatmap(heat[1:, 1:].astype(np.int32), cmap=\"Blues\", annot=True, fmt='d', cbar=False, xticklabels=tics, yticklabels=tics)\n",
    "plt.xlabel(\"Preds\")\n",
    "plt.ylabel(\"Label\")\n",
    "plt.savefig(r\"D:/Users/hara.e/Dropbox/ゼミ/AMED/fig/heatmap.pdf\")"
   ]
  },
  {
   "cell_type": "code",
   "execution_count": 8,
   "metadata": {},
   "outputs": [
    {
     "data": {
      "text/plain": [
       "[0.8789441747572816,\n",
       " 0.47584887613582016,\n",
       " 0.7238653001464129,\n",
       " 0.1397338403041825]"
      ]
     },
     "execution_count": 8,
     "metadata": {},
     "output_type": "execute_result"
    }
   ],
   "source": [
    "acc = []\n",
    "for i in range(len(heat)):\n",
    "    acc.append(heat[i, i] / (heat[i].sum() + heat[: , i].sum() - heat[i, i]))\n",
    "acc[1: ]"
   ]
  },
  {
   "cell_type": "code",
   "execution_count": 9,
   "metadata": {},
   "outputs": [
    {
     "data": {
      "text/plain": [
       "[0.9179340937896071,\n",
       " 0.5801749271137027,\n",
       " 0.8451282051282051,\n",
       " 0.8258426966292135]"
      ]
     },
     "execution_count": 9,
     "metadata": {},
     "output_type": "execute_result"
    }
   ],
   "source": [
    "precision = []\n",
    "for i in range(len(heat)):\n",
    "    precision.append(heat[i, i] / heat[: , i].sum())\n",
    "\n",
    "precision[1: ]"
   ]
  },
  {
   "cell_type": "code",
   "execution_count": 10,
   "metadata": {},
   "outputs": [
    {
     "name": "stderr",
     "output_type": "stream",
     "text": [
      "D:\\Users\\hara.e\\AppData\\Local\\Continuum\\miniconda3\\envs\\amed\\lib\\site-packages\\ipykernel_launcher.py:3: RuntimeWarning: invalid value encountered in double_scalars\n",
      "  This is separate from the ipykernel package so we can avoid doing imports until\n"
     ]
    },
    {
     "data": {
      "text/plain": [
       "[0.9539018768521568,\n",
       " 0.7257476294675419,\n",
       " 0.8345712356515868,\n",
       " 0.14397649363369247]"
      ]
     },
     "execution_count": 10,
     "metadata": {},
     "output_type": "execute_result"
    }
   ],
   "source": [
    "recall = []\n",
    "for i in range(len(heat)):\n",
    "    recall.append(heat[i, i] / heat[i].sum())\n",
    "\n",
    "recall[1: ]"
   ]
  },
  {
   "cell_type": "code",
   "execution_count": 11,
   "metadata": {},
   "outputs": [
    {
     "data": {
      "text/plain": [
       "[0.9355724204747297,\n",
       " 0.6448476992871031,\n",
       " 0.8398165449295056,\n",
       " 0.24520433694745622]"
      ]
     },
     "execution_count": 11,
     "metadata": {},
     "output_type": "execute_result"
    }
   ],
   "source": [
    "f1 =[]\n",
    "for p, r in zip(precision, recall):\n",
    "    f1.append(2 * p * r / (p + r))\n",
    "f1[1: ]"
   ]
  }
 ],
 "metadata": {
  "interpreter": {
   "hash": "ce839182281d104831367eceb6fa474a60176efbf0a23ceab7c844dbad4653ff"
  },
  "kernelspec": {
   "display_name": "Python 3.7.13 ('amed')",
   "language": "python",
   "name": "python3"
  },
  "language_info": {
   "codemirror_mode": {
    "name": "ipython",
    "version": 3
   },
   "file_extension": ".py",
   "mimetype": "text/x-python",
   "name": "python",
   "nbconvert_exporter": "python",
   "pygments_lexer": "ipython3",
   "version": "3.7.13"
  },
  "orig_nbformat": 4
 },
 "nbformat": 4,
 "nbformat_minor": 2
}
