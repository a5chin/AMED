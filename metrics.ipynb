{
 "cells": [
  {
   "cell_type": "code",
   "execution_count": 1,
   "id": "1147ec9f-109d-43cb-9e6a-67de82411e9b",
   "metadata": {},
   "outputs": [],
   "source": [
    "import json\n",
    "import torch\n",
    "import matplotlib.pyplot as plt\n",
    "import seaborn as sns; sns.set()\n",
    "from torchvision.ops.boxes import box_iou"
   ]
  },
  {
   "cell_type": "code",
   "execution_count": 2,
   "id": "613f4a17-acc7-4dfd-bea6-fd813e09e31a",
   "metadata": {},
   "outputs": [],
   "source": [
    "class PRCurveDrawer:\n",
    "    def __init__(self,\n",
    "        data_file: str=r'//aka/work/hara.e/AMED/lib/dataset/annotations/test.json',\n",
    "        preds_file: str=r'//aka/work/hara.e/AMED/YOLOX/YOLOX_outputs/amed/preds.json',\n",
    "    ):\n",
    "        with open(preds_file) as f:\n",
    "            self.preds = json.load(f)\n",
    "        with open(data_file) as f:\n",
    "            self.data = json.load(f)['annotations']\n",
    "            \n",
    "        self.re_ths = [th / 100 for th in range(1, 95)]\n",
    "        self.ious = self._get_ious()\n",
    "        self.reliabilities = self.preds['reliability']\n",
    "        self.items = {'iou': self.ious, 'reliability': self.reliabilities}\n",
    "\n",
    "    def draw(self, iou_th: list=[0.5]):\n",
    "        self.iou_th = iou_th\n",
    "        plt.axis('square')\n",
    "        plt.xlim(0, 1)\n",
    "        plt.ylim(0, 1)\n",
    "        \n",
    "        for th in self.iou_th:\n",
    "            precision, recall = self._get_pr(th)\n",
    "            plt.plot([recall[0]] + recall, [0.0] + precision)\n",
    "\n",
    "        plt.legend(self.iou_th, title='IoU', loc='center left', bbox_to_anchor=(1, 0.5))\n",
    "        plt.xlabel('Recall')\n",
    "        plt.ylabel('Precision')\n",
    "        plt.savefig('D:/Users/hara.e/Dropbox/ゼミ/AMED/fig/pr-curve.pdf')\n",
    "\n",
    "    def _get_pr(self, iou_th: int) -> (list, list):\n",
    "        precision, recall = [], []\n",
    "        for re_th in self.re_ths:\n",
    "            correct = 0\n",
    "            for iou, re in zip(self.ious, self.reliabilities):\n",
    "                for i, r in zip(iou, re):\n",
    "                    if (i > iou_th) and (r > re_th):\n",
    "                        correct += 1\n",
    "            recall += [correct / len(self.ious)]\n",
    "            precision += [correct / sum([1 for re in self.reliabilities for r in re if r > re_th])]\n",
    "        return precision, recall\n",
    "            \n",
    "    def _get_ious(self) -> list:\n",
    "        ious = []\n",
    "        for i, pred in enumerate(self.preds['annotations']):\n",
    "            iou = PRCurveDrawer._calc_iou(self.preds['annotations'][i], self.data[i]['bbox'])\n",
    "            ious += [iou]\n",
    "        return ious\n",
    "\n",
    "    @staticmethod\n",
    "    def _calc_iou(pred: list, label: list) -> list:\n",
    "        x, y, w, h = label\n",
    "        if pred is not None:\n",
    "            iou = box_iou(torch.Tensor(pred['bbox']), torch.Tensor([[x, y, x + w, y + h]]))\n",
    "        else:\n",
    "            iou = torch.Tensor([[0.]])\n",
    "        return iou.flatten().tolist()"
   ]
  },
  {
   "cell_type": "markdown",
   "id": "f0f60d43-28c9-4847-814d-e4183ee6bfeb",
   "metadata": {},
   "source": [
    "# Draw PR-Curve"
   ]
  },
  {
   "cell_type": "code",
   "execution_count": 3,
   "id": "6fae8506-fc60-4864-adfd-7bb031bcb483",
   "metadata": {},
   "outputs": [
    {
     "data": {
      "image/png": "[encoded data removed]",
      "text/plain": [
       "<Figure size 432x288 with 1 Axes>"
      ]
     },
     "metadata": {},
     "output_type": "display_data"
    }
   ],
   "source": [
    "drawer = PRCurveDrawer()\n",
    "drawer.draw(iou_th = [th / 10 for th in range(1, 10, 2)])"
   ]
  },
  {
   "cell_type": "markdown",
   "id": "2c45424b-d6bc-4945-ac1a-23e7fe79efbc",
   "metadata": {},
   "source": [
    "# Show Some Data"
   ]
  },
  {
   "cell_type": "code",
   "execution_count": 4,
   "id": "97da7d70-5338-4314-bdbc-bd2c274abda1",
   "metadata": {},
   "outputs": [
    {
     "data": {
      "text/html": [
       "<div>\n",
       "<style scoped>\n",
       "    .dataframe tbody tr th:only-of-type {\n",
       "        vertical-align: middle;\n",
       "    }\n",
       "\n",
       "    .dataframe tbody tr th {\n",
       "        vertical-align: top;\n",
       "    }\n",
       "\n",
       "    .dataframe thead th {\n",
       "        text-align: right;\n",
       "    }\n",
       "</style>\n",
       "<table border=\"1\" class=\"dataframe\">\n",
       "  <thead>\n",
       "    <tr style=\"text-align: right;\">\n",
       "      <th></th>\n",
       "      <th>iou</th>\n",
       "      <th>reliability</th>\n",
       "    </tr>\n",
       "  </thead>\n",
       "  <tbody>\n",
       "    <tr>\n",
       "      <th>0</th>\n",
       "      <td>[0.6355545520782471]</td>\n",
       "      <td>[0.8948855803197375]</td>\n",
       "    </tr>\n",
       "    <tr>\n",
       "      <th>1</th>\n",
       "      <td>[0.6460248827934265]</td>\n",
       "      <td>[0.5881655878609351]</td>\n",
       "    </tr>\n",
       "    <tr>\n",
       "      <th>2</th>\n",
       "      <td>[0.4510451555252075]</td>\n",
       "      <td>[0.8563984866902068]</td>\n",
       "    </tr>\n",
       "    <tr>\n",
       "      <th>3</th>\n",
       "      <td>[0.08195419609546661]</td>\n",
       "      <td>[0.8752405576362463]</td>\n",
       "    </tr>\n",
       "    <tr>\n",
       "      <th>4</th>\n",
       "      <td>[0.45758599042892456]</td>\n",
       "      <td>[0.8548910803488958]</td>\n",
       "    </tr>\n",
       "  </tbody>\n",
       "</table>\n",
       "</div>"
      ],
      "text/plain": [
       "                     iou           reliability\n",
       "0   [0.6355545520782471]  [0.8948855803197375]\n",
       "1   [0.6460248827934265]  [0.5881655878609351]\n",
       "2   [0.4510451555252075]  [0.8563984866902068]\n",
       "3  [0.08195419609546661]  [0.8752405576362463]\n",
       "4  [0.45758599042892456]  [0.8548910803488958]"
      ]
     },
     "execution_count": 4,
     "metadata": {},
     "output_type": "execute_result"
    }
   ],
   "source": [
    "import pandas as pd\n",
    "\n",
    "df = pd.DataFrame(drawer.items)\n",
    "df.head()"
   ]
  },
  {
   "cell_type": "code",
   "execution_count": 5,
   "id": "8d56aff2-cc83-42a3-8aff-59a7356aae78",
   "metadata": {},
   "outputs": [
    {
     "data": {
      "text/html": [
       "<div>\n",
       "<style scoped>\n",
       "    .dataframe tbody tr th:only-of-type {\n",
       "        vertical-align: middle;\n",
       "    }\n",
       "\n",
       "    .dataframe tbody tr th {\n",
       "        vertical-align: top;\n",
       "    }\n",
       "\n",
       "    .dataframe thead th {\n",
       "        text-align: right;\n",
       "    }\n",
       "</style>\n",
       "<table border=\"1\" class=\"dataframe\">\n",
       "  <thead>\n",
       "    <tr style=\"text-align: right;\">\n",
       "      <th></th>\n",
       "      <th>iou</th>\n",
       "      <th>reliability</th>\n",
       "    </tr>\n",
       "  </thead>\n",
       "  <tbody>\n",
       "    <tr>\n",
       "      <th>30</th>\n",
       "      <td>[0.6313917636871338, 0.0]</td>\n",
       "      <td>[0.8669306324708117, 0.4032978270025822]</td>\n",
       "    </tr>\n",
       "  </tbody>\n",
       "</table>\n",
       "</div>"
      ],
      "text/plain": [
       "                          iou                               reliability\n",
       "30  [0.6313917636871338, 0.0]  [0.8669306324708117, 0.4032978270025822]"
      ]
     },
     "execution_count": 5,
     "metadata": {},
     "output_type": "execute_result"
    }
   ],
   "source": [
    "df.iloc[[30], :]"
   ]
  },
  {
   "cell_type": "code",
   "execution_count": 6,
   "id": "203c8f44-cf83-409e-bcbd-3b3ba9275749",
   "metadata": {},
   "outputs": [
    {
     "data": {
      "text/html": [
       "<div>\n",
       "<style scoped>\n",
       "    .dataframe tbody tr th:only-of-type {\n",
       "        vertical-align: middle;\n",
       "    }\n",
       "\n",
       "    .dataframe tbody tr th {\n",
       "        vertical-align: top;\n",
       "    }\n",
       "\n",
       "    .dataframe thead th {\n",
       "        text-align: right;\n",
       "    }\n",
       "</style>\n",
       "<table border=\"1\" class=\"dataframe\">\n",
       "  <thead>\n",
       "    <tr style=\"text-align: right;\">\n",
       "      <th></th>\n",
       "      <th>iou</th>\n",
       "      <th>reliability</th>\n",
       "    </tr>\n",
       "  </thead>\n",
       "  <tbody>\n",
       "    <tr>\n",
       "      <th>44</th>\n",
       "      <td>[0.0]</td>\n",
       "      <td>[0.43404865590756003]</td>\n",
       "    </tr>\n",
       "  </tbody>\n",
       "</table>\n",
       "</div>"
      ],
      "text/plain": [
       "      iou            reliability\n",
       "44  [0.0]  [0.43404865590756003]"
      ]
     },
     "execution_count": 6,
     "metadata": {},
     "output_type": "execute_result"
    }
   ],
   "source": [
    "df.iloc[[44], :]"
   ]
  },
  {
   "cell_type": "code",
   "execution_count": 4,
   "id": "2be5b71a-7204-4f42-8103-0d13eed93079",
   "metadata": {},
   "outputs": [
    {
     "data": {
      "text/html": [
       "<div>\n",
       "<style scoped>\n",
       "    .dataframe tbody tr th:only-of-type {\n",
       "        vertical-align: middle;\n",
       "    }\n",
       "\n",
       "    .dataframe tbody tr th {\n",
       "        vertical-align: top;\n",
       "    }\n",
       "\n",
       "    .dataframe thead th {\n",
       "        text-align: right;\n",
       "    }\n",
       "</style>\n",
       "<table border=\"1\" class=\"dataframe\">\n",
       "  <thead>\n",
       "    <tr style=\"text-align: right;\">\n",
       "      <th></th>\n",
       "      <th>iou</th>\n",
       "      <th>reliability</th>\n",
       "    </tr>\n",
       "  </thead>\n",
       "  <tbody>\n",
       "    <tr>\n",
       "      <th>0</th>\n",
       "      <td>[0.6355545520782471]</td>\n",
       "      <td>[0.8948855803197375]</td>\n",
       "    </tr>\n",
       "    <tr>\n",
       "      <th>1</th>\n",
       "      <td>[0.6460248827934265]</td>\n",
       "      <td>[0.5881655878609351]</td>\n",
       "    </tr>\n",
       "    <tr>\n",
       "      <th>2</th>\n",
       "      <td>[0.4510451555252075]</td>\n",
       "      <td>[0.8563984866902068]</td>\n",
       "    </tr>\n",
       "    <tr>\n",
       "      <th>3</th>\n",
       "      <td>[0.08195419609546661]</td>\n",
       "      <td>[0.8752405576362463]</td>\n",
       "    </tr>\n",
       "    <tr>\n",
       "      <th>4</th>\n",
       "      <td>[0.45758599042892456]</td>\n",
       "      <td>[0.8548910803488958]</td>\n",
       "    </tr>\n",
       "  </tbody>\n",
       "</table>\n",
       "</div>"
      ],
      "text/plain": [
       "                     iou           reliability\n",
       "0   [0.6355545520782471]  [0.8948855803197375]\n",
       "1   [0.6460248827934265]  [0.5881655878609351]\n",
       "2   [0.4510451555252075]  [0.8563984866902068]\n",
       "3  [0.08195419609546661]  [0.8752405576362463]\n",
       "4  [0.45758599042892456]  [0.8548910803488958]"
      ]
     },
     "execution_count": 4,
     "metadata": {},
     "output_type": "execute_result"
    }
   ],
   "source": [
    "import pandas as pd\n",
    "\n",
    "df = pd.DataFrame(drawer.items)\n",
    "df.head()"
   ]
  }
 ],
 "metadata": {
  "kernelspec": {
   "display_name": "Python 3 (ipykernel)",
   "language": "python",
   "name": "python3"
  },
  "language_info": {
   "codemirror_mode": {
    "name": "ipython",
    "version": 3
   },
   "file_extension": ".py",
   "mimetype": "text/x-python",
   "name": "python",
   "nbconvert_exporter": "python",
   "pygments_lexer": "ipython3",
   "version": "3.9.7"
  }
 },
 "nbformat": 4,
 "nbformat_minor": 5
}
