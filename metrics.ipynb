{
 "cells": [
  {
   "cell_type": "code",
   "execution_count": 1,
   "id": "1147ec9f-109d-43cb-9e6a-67de82411e9b",
   "metadata": {},
   "outputs": [],
   "source": [
    "import json\n",
    "import torch\n",
    "import matplotlib.pyplot as plt\n",
    "import seaborn as sns; sns.set()\n",
    "from torchvision.ops.boxes import box_iou"
   ]
  },
  {
   "cell_type": "code",
   "execution_count": 2,
   "id": "edad7be9-24de-4838-bc06-fcb998b25501",
   "metadata": {},
   "outputs": [],
   "source": [
    "class PRCurveDrawer:\n",
    "    def __init__(self,\n",
    "        data_file: str=r'//aka/work/hara.e/AMED/lib/dataset/annotations/test.json',\n",
    "        preds_file: str=r'//aka/work/hara.e/AMED/YOLOX/sample.json',\n",
    "        th='reliability'\n",
    "    ):\n",
    "\n",
    "        with open(preds_file) as f:\n",
    "            self.preds = json.load(f)\n",
    "        with open(data_file) as f:\n",
    "            self.data = json.load(f)['annotations']\n",
    "        self.ths = self._get_reliability() if th == 'reliability' else self._get_ious()\n",
    "        \n",
    "    def draw(self, th: list=[0.5]):\n",
    "        plt.xlim(0, 1)\n",
    "        plt.ylim(0, 1)\n",
    "        for t in th:\n",
    "            self.precision, self.recall = self._get_pr(t)\n",
    "            plt.plot(self.recall, self.precision)\n",
    "        print(th)\n",
    "        plt.legend(th)\n",
    "        plt.xlabel('Recall')\n",
    "        plt.ylabel('Precision')\n",
    "\n",
    "    def _get_pr(self, th):\n",
    "        gt = sum([1 for t in self.ths if t > th])\n",
    "        precision, recall = [], []\n",
    "        t = 0\n",
    "        for i, iou in enumerate(self.ths):\n",
    "            if th < iou:\n",
    "                t += 1\n",
    "            precision += [t / (i + 1)]\n",
    "            recall += [t / gt]\n",
    "        return precision, recall\n",
    "    \n",
    "    def _get_reliability(self):\n",
    "        return self.preds['reliability']\n",
    "            \n",
    "    def _get_ious(self):\n",
    "        ious = []\n",
    "        for i, pred in enumerate(self.preds['annotations']):\n",
    "            iou = calc_iou(self.preds['annotations'][i], self.data[i]['bbox'])\n",
    "            ious += [iou.item()]\n",
    "        return ious\n",
    "        \n",
    "    def _calc_iou(self):\n",
    "        x, y, w, h = self.label\n",
    "        if pred is not None:\n",
    "            iou = box_iou(torch.Tensor(self.pred['bbox']), torch.Tensor([[x, y, x + w, y + h]]))\n",
    "        else:\n",
    "            iou = torch.Tensor([[0.]])\n",
    "        return torch.max(iou)"
   ]
  },
  {
   "cell_type": "code",
   "execution_count": 3,
   "id": "7246e72c-9f5f-42a5-8576-15b1444569dd",
   "metadata": {},
   "outputs": [
    {
     "name": "stdout",
     "output_type": "stream",
     "text": [
      "[0.7, 0.8, 0.9]\n"
     ]
    },
    {
     "data": {
      "image/png": "[encoded data removed]",
      "text/plain": [
       "<Figure size 432x288 with 1 Axes>"
      ]
     },
     "metadata": {},
     "output_type": "display_data"
    }
   ],
   "source": [
    "drawer = PRCurveDrawer()\n",
    "drawer.draw([0.7, 0.8, 0.9])"
   ]
  }
 ],
 "metadata": {
  "kernelspec": {
   "display_name": "Python 3 (ipykernel)",
   "language": "python",
   "name": "python3"
  },
  "language_info": {
   "codemirror_mode": {
    "name": "ipython",
    "version": 3
   },
   "file_extension": ".py",
   "mimetype": "text/x-python",
   "name": "python",
   "nbconvert_exporter": "python",
   "pygments_lexer": "ipython3",
   "version": "3.9.7"
  }
 },
 "nbformat": 4,
 "nbformat_minor": 5
}
